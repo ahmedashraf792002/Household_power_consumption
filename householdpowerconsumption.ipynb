{
 "cells": [
  {
   "cell_type": "code",
   "execution_count": 1,
   "id": "ed500f89",
   "metadata": {
    "_cell_guid": "b1076dfc-b9ad-4769-8c92-a6c4dae69d19",
    "_uuid": "8f2839f25d086af736a60e9eeb907d3b93b6e0e5",
    "execution": {
     "iopub.execute_input": "2022-11-25T15:31:52.743228Z",
     "iopub.status.busy": "2022-11-25T15:31:52.742688Z",
     "iopub.status.idle": "2022-11-25T15:31:52.760239Z",
     "shell.execute_reply": "2022-11-25T15:31:52.759701Z"
    },
    "papermill": {
     "duration": 0.029854,
     "end_time": "2022-11-25T15:31:52.762493",
     "exception": false,
     "start_time": "2022-11-25T15:31:52.732639",
     "status": "completed"
    },
    "tags": []
   },
   "outputs": [
    {
     "name": "stdout",
     "output_type": "stream",
     "text": [
      "/kaggle/input/household-power-consumption/Household_power_consumption.csv\n"
     ]
    }
   ],
   "source": [
    "# This Python 3 environment comes with many helpful analytics libraries installed\n",
    "# It is defined by the kaggle/python Docker image: https://github.com/kaggle/docker-python\n",
    "# For example, here's several helpful packages to load\n",
    "\n",
    "import numpy as np # linear algebra\n",
    "import pandas as pd # data processing, CSV file I/O (e.g. pd.read_csv)\n",
    "\n",
    "# Input data files are available in the read-only \"../input/\" directory\n",
    "# For example, running this (by clicking run or pressing Shift+Enter) will list all files under the input directory\n",
    "\n",
    "import os\n",
    "for dirname, _, filenames in os.walk('/kaggle/input'):\n",
    "    for filename in filenames:\n",
    "        print(os.path.join(dirname, filename))\n",
    "\n",
    "# You can write up to 20GB to the current directory (/kaggle/working/) that gets preserved as output when you create a version using \"Save & Run All\" \n",
    "# You can also write temporary files to /kaggle/temp/, but they won't be saved outside of the current session"
   ]
  },
  {
   "cell_type": "markdown",
   "id": "98dd0768",
   "metadata": {
    "papermill": {
     "duration": 0.007658,
     "end_time": "2022-11-25T15:31:52.779073",
     "exception": false,
     "start_time": "2022-11-25T15:31:52.771415",
     "status": "completed"
    },
    "tags": []
   },
   "source": [
    "#Import Libraries"
   ]
  },
  {
   "cell_type": "code",
   "execution_count": 2,
   "id": "179453b0",
   "metadata": {
    "execution": {
     "iopub.execute_input": "2022-11-25T15:31:52.796682Z",
     "iopub.status.busy": "2022-11-25T15:31:52.796211Z",
     "iopub.status.idle": "2022-11-25T15:31:53.810444Z",
     "shell.execute_reply": "2022-11-25T15:31:53.809603Z"
    },
    "papermill": {
     "duration": 1.026056,
     "end_time": "2022-11-25T15:31:53.812667",
     "exception": false,
     "start_time": "2022-11-25T15:31:52.786611",
     "status": "completed"
    },
    "tags": []
   },
   "outputs": [],
   "source": [
    "\n",
    "import pandas as pd\n",
    "import seaborn as sns\n",
    "import numpy as np\n",
    "import matplotlib.pyplot as plt\n",
    "from sklearn.impute import SimpleImputer\n",
    "from sklearn.preprocessing import MinMaxScaler\n",
    "from sklearn.model_selection import KFold\n",
    "from sklearn.linear_model import LinearRegression\n",
    "from sklearn.model_selection import train_test_split\n",
    "from sklearn.metrics import mean_absolute_error \n",
    "from sklearn.metrics import mean_squared_error \n",
    "from sklearn.metrics import median_absolute_error\n",
    "from sklearn.decomposition import PCA"
   ]
  },
  {
   "cell_type": "markdown",
   "id": "094071d5",
   "metadata": {
    "papermill": {
     "duration": 0.007381,
     "end_time": "2022-11-25T15:31:53.827910",
     "exception": false,
     "start_time": "2022-11-25T15:31:53.820529",
     "status": "completed"
    },
    "tags": []
   },
   "source": [
    "read Data"
   ]
  },
  {
   "cell_type": "code",
   "execution_count": 3,
   "id": "6934a43a",
   "metadata": {
    "execution": {
     "iopub.execute_input": "2022-11-25T15:31:53.844826Z",
     "iopub.status.busy": "2022-11-25T15:31:53.844486Z",
     "iopub.status.idle": "2022-11-25T15:31:57.552401Z",
     "shell.execute_reply": "2022-11-25T15:31:57.551758Z"
    },
    "papermill": {
     "duration": 3.718793,
     "end_time": "2022-11-25T15:31:57.554381",
     "exception": false,
     "start_time": "2022-11-25T15:31:53.835588",
     "status": "completed"
    },
    "tags": []
   },
   "outputs": [],
   "source": [
    "data=pd.read_csv('/kaggle/input/household-power-consumption/Household_power_consumption.csv',index_col='datetime')"
   ]
  },
  {
   "cell_type": "markdown",
   "id": "ae3b658b",
   "metadata": {
    "papermill": {
     "duration": 0.007416,
     "end_time": "2022-11-25T15:31:57.569658",
     "exception": false,
     "start_time": "2022-11-25T15:31:57.562242",
     "status": "completed"
    },
    "tags": []
   },
   "source": [
    "#print frist 5 data"
   ]
  },
  {
   "cell_type": "code",
   "execution_count": 4,
   "id": "7f7f8cf5",
   "metadata": {
    "execution": {
     "iopub.execute_input": "2022-11-25T15:31:57.586199Z",
     "iopub.status.busy": "2022-11-25T15:31:57.585501Z",
     "iopub.status.idle": "2022-11-25T15:31:57.597889Z",
     "shell.execute_reply": "2022-11-25T15:31:57.597086Z"
    },
    "papermill": {
     "duration": 0.022427,
     "end_time": "2022-11-25T15:31:57.599624",
     "exception": false,
     "start_time": "2022-11-25T15:31:57.577197",
     "status": "completed"
    },
    "tags": []
   },
   "outputs": [
    {
     "name": "stdout",
     "output_type": "stream",
     "text": [
      "                     Global_active_power  Global_reactive_power  Voltage  \\\n",
      "datetime                                                                   \n",
      "2006-12-16 17:24:00                4.216                  0.418   234.84   \n",
      "2006-12-16 17:25:00                5.360                  0.436   233.63   \n",
      "2006-12-16 17:26:00                5.374                  0.498   233.29   \n",
      "2006-12-16 17:27:00                5.388                  0.502   233.74   \n",
      "2006-12-16 17:28:00                3.666                  0.528   235.68   \n",
      "\n",
      "                     Global_intensity  Sub_metering_1  Sub_metering_2  \\\n",
      "datetime                                                                \n",
      "2006-12-16 17:24:00              18.4             0.0             1.0   \n",
      "2006-12-16 17:25:00              23.0             0.0             1.0   \n",
      "2006-12-16 17:26:00              23.0             0.0             2.0   \n",
      "2006-12-16 17:27:00              23.0             0.0             1.0   \n",
      "2006-12-16 17:28:00              15.8             0.0             1.0   \n",
      "\n",
      "                     Sub_metering_3  sub_metering_4  \n",
      "datetime                                             \n",
      "2006-12-16 17:24:00            17.0       52.266670  \n",
      "2006-12-16 17:25:00            16.0       72.333336  \n",
      "2006-12-16 17:26:00            17.0       70.566666  \n",
      "2006-12-16 17:27:00            17.0       71.800000  \n",
      "2006-12-16 17:28:00            17.0       43.100000  \n"
     ]
    }
   ],
   "source": [
    "\n",
    "print(data.head())  "
   ]
  },
  {
   "cell_type": "markdown",
   "id": "d916f223",
   "metadata": {
    "papermill": {
     "duration": 0.007344,
     "end_time": "2022-11-25T15:31:57.614909",
     "exception": false,
     "start_time": "2022-11-25T15:31:57.607565",
     "status": "completed"
    },
    "tags": []
   },
   "source": [
    "#print data columns"
   ]
  },
  {
   "cell_type": "code",
   "execution_count": 5,
   "id": "bde06f2b",
   "metadata": {
    "execution": {
     "iopub.execute_input": "2022-11-25T15:31:57.631136Z",
     "iopub.status.busy": "2022-11-25T15:31:57.630862Z",
     "iopub.status.idle": "2022-11-25T15:31:57.635209Z",
     "shell.execute_reply": "2022-11-25T15:31:57.634418Z"
    },
    "papermill": {
     "duration": 0.014525,
     "end_time": "2022-11-25T15:31:57.637017",
     "exception": false,
     "start_time": "2022-11-25T15:31:57.622492",
     "status": "completed"
    },
    "tags": []
   },
   "outputs": [
    {
     "name": "stdout",
     "output_type": "stream",
     "text": [
      "col 1 is : Global_active_power\n",
      "col 2 is : Global_reactive_power\n",
      "col 3 is : Voltage\n",
      "col 4 is : Global_intensity\n",
      "col 5 is : Sub_metering_1\n",
      "col 6 is : Sub_metering_2\n",
      "col 7 is : Sub_metering_3\n",
      "col 8 is : sub_metering_4\n"
     ]
    }
   ],
   "source": [
    "x=1\n",
    "for col in data.columns:\n",
    "    print(f'col {x} is :',col)\n",
    "    x+=1 "
   ]
  },
  {
   "cell_type": "markdown",
   "id": "13f41b3a",
   "metadata": {
    "papermill": {
     "duration": 0.00742,
     "end_time": "2022-11-25T15:31:57.652319",
     "exception": false,
     "start_time": "2022-11-25T15:31:57.644899",
     "status": "completed"
    },
    "tags": []
   },
   "source": [
    "#data corr  "
   ]
  },
  {
   "cell_type": "code",
   "execution_count": 6,
   "id": "e3ee2255",
   "metadata": {
    "execution": {
     "iopub.execute_input": "2022-11-25T15:31:57.668688Z",
     "iopub.status.busy": "2022-11-25T15:31:57.668375Z",
     "iopub.status.idle": "2022-11-25T15:31:58.235987Z",
     "shell.execute_reply": "2022-11-25T15:31:58.235181Z"
    },
    "papermill": {
     "duration": 0.577746,
     "end_time": "2022-11-25T15:31:58.237704",
     "exception": false,
     "start_time": "2022-11-25T15:31:57.659958",
     "status": "completed"
    },
    "tags": []
   },
   "outputs": [
    {
     "data": {
      "text/plain": [
       "<AxesSubplot:>"
      ]
     },
     "execution_count": 6,
     "metadata": {},
     "output_type": "execute_result"
    },
    {
     "data": {
      "image/png": "[encoded data removed]",
      "text/plain": [
       "<Figure size 432x288 with 2 Axes>"
      ]
     },
     "metadata": {
      "needs_background": "light"
     },
     "output_type": "display_data"
    }
   ],
   "source": [
    "\n",
    "sns.heatmap(data.corr())"
   ]
  },
  {
   "cell_type": "markdown",
   "id": "dcb97941",
   "metadata": {
    "papermill": {
     "duration": 0.008025,
     "end_time": "2022-11-25T15:31:58.254571",
     "exception": false,
     "start_time": "2022-11-25T15:31:58.246546",
     "status": "completed"
    },
    "tags": []
   },
   "source": [
    "#data describe"
   ]
  },
  {
   "cell_type": "code",
   "execution_count": 7,
   "id": "bbafdf7b",
   "metadata": {
    "execution": {
     "iopub.execute_input": "2022-11-25T15:31:58.272078Z",
     "iopub.status.busy": "2022-11-25T15:31:58.271763Z",
     "iopub.status.idle": "2022-11-25T15:31:58.623042Z",
     "shell.execute_reply": "2022-11-25T15:31:58.621785Z"
    },
    "papermill": {
     "duration": 0.362461,
     "end_time": "2022-11-25T15:31:58.625217",
     "exception": false,
     "start_time": "2022-11-25T15:31:58.262756",
     "status": "completed"
    },
    "tags": []
   },
   "outputs": [
    {
     "name": "stdout",
     "output_type": "stream",
     "text": [
      "       Global_active_power  Global_reactive_power       Voltage  \\\n",
      "count         2.075259e+06           2.075259e+06  2.075259e+06   \n",
      "mean          1.089418e+00           1.236871e-01  2.408364e+02   \n",
      "std           1.054678e+00           1.125933e-01  3.240051e+00   \n",
      "min           7.600000e-02           0.000000e+00  2.232000e+02   \n",
      "25%           3.080000e-01           4.800000e-02  2.389900e+02   \n",
      "50%           6.020000e-01           1.000000e-01  2.410000e+02   \n",
      "75%           1.526000e+00           1.940000e-01  2.428700e+02   \n",
      "max           1.112200e+01           1.390000e+00  2.541500e+02   \n",
      "\n",
      "       Global_intensity  Sub_metering_1  Sub_metering_2  Sub_metering_3  \\\n",
      "count      2.075259e+06    2.075259e+06    2.075259e+06    2.075259e+06   \n",
      "mean       4.618401e+00    1.118474e+00    1.291131e+00    6.448635e+00   \n",
      "std        4.433165e+00    6.141460e+00    5.796922e+00    8.433584e+00   \n",
      "min        2.000000e-01    0.000000e+00    0.000000e+00    0.000000e+00   \n",
      "25%        1.400000e+00    0.000000e+00    0.000000e+00    0.000000e+00   \n",
      "50%        2.600000e+00    0.000000e+00    0.000000e+00    1.000000e+00   \n",
      "75%        6.400000e+00    0.000000e+00    1.000000e+00    1.700000e+01   \n",
      "max        4.840000e+01    8.800000e+01    8.000000e+01    3.100000e+01   \n",
      "\n",
      "       sub_metering_4  \n",
      "count    2.075259e+06  \n",
      "mean     9.298722e+00  \n",
      "std      9.561278e+00  \n",
      "min     -2.400000e+00  \n",
      "25%      3.800000e+00  \n",
      "50%      5.500000e+00  \n",
      "75%      1.036667e+01  \n",
      "max      1.248333e+02  \n"
     ]
    }
   ],
   "source": [
    "print(data.describe())"
   ]
  },
  {
   "cell_type": "markdown",
   "id": "497c1e66",
   "metadata": {
    "papermill": {
     "duration": 0.008064,
     "end_time": "2022-11-25T15:31:58.642256",
     "exception": false,
     "start_time": "2022-11-25T15:31:58.634192",
     "status": "completed"
    },
    "tags": []
   },
   "source": [
    "#data information"
   ]
  },
  {
   "cell_type": "code",
   "execution_count": 8,
   "id": "3c0d594f",
   "metadata": {
    "execution": {
     "iopub.execute_input": "2022-11-25T15:31:58.660274Z",
     "iopub.status.busy": "2022-11-25T15:31:58.659534Z",
     "iopub.status.idle": "2022-11-25T15:31:58.670990Z",
     "shell.execute_reply": "2022-11-25T15:31:58.670109Z"
    },
    "papermill": {
     "duration": 0.022274,
     "end_time": "2022-11-25T15:31:58.672718",
     "exception": false,
     "start_time": "2022-11-25T15:31:58.650444",
     "status": "completed"
    },
    "tags": []
   },
   "outputs": [
    {
     "name": "stdout",
     "output_type": "stream",
     "text": [
      "<class 'pandas.core.frame.DataFrame'>\n",
      "Index: 2075259 entries, 2006-12-16 17:24:00 to 2010-11-26 21:02:00\n",
      "Data columns (total 8 columns):\n",
      " #   Column                 Dtype  \n",
      "---  ------                 -----  \n",
      " 0   Global_active_power    float64\n",
      " 1   Global_reactive_power  float64\n",
      " 2   Voltage                float64\n",
      " 3   Global_intensity       float64\n",
      " 4   Sub_metering_1         float64\n",
      " 5   Sub_metering_2         float64\n",
      " 6   Sub_metering_3         float64\n",
      " 7   sub_metering_4         float64\n",
      "dtypes: float64(8)\n",
      "memory usage: 142.5+ MB\n",
      "None\n"
     ]
    }
   ],
   "source": [
    "\n",
    "print(data.info())"
   ]
  },
  {
   "cell_type": "markdown",
   "id": "bf2b0022",
   "metadata": {
    "papermill": {
     "duration": 0.008021,
     "end_time": "2022-11-25T15:31:58.689103",
     "exception": false,
     "start_time": "2022-11-25T15:31:58.681082",
     "status": "completed"
    },
    "tags": []
   },
   "source": [
    "#show sum of null data"
   ]
  },
  {
   "cell_type": "code",
   "execution_count": 9,
   "id": "087411d3",
   "metadata": {
    "execution": {
     "iopub.execute_input": "2022-11-25T15:31:58.710342Z",
     "iopub.status.busy": "2022-11-25T15:31:58.709575Z",
     "iopub.status.idle": "2022-11-25T15:31:58.737039Z",
     "shell.execute_reply": "2022-11-25T15:31:58.736129Z"
    },
    "papermill": {
     "duration": 0.041422,
     "end_time": "2022-11-25T15:31:58.739171",
     "exception": false,
     "start_time": "2022-11-25T15:31:58.697749",
     "status": "completed"
    },
    "tags": []
   },
   "outputs": [
    {
     "name": "stdout",
     "output_type": "stream",
     "text": [
      "Global_active_power      0\n",
      "Global_reactive_power    0\n",
      "Voltage                  0\n",
      "Global_intensity         0\n",
      "Sub_metering_1           0\n",
      "Sub_metering_2           0\n",
      "Sub_metering_3           0\n",
      "sub_metering_4           0\n",
      "dtype: int64\n"
     ]
    }
   ],
   "source": [
    "\n",
    "print(data.isnull().sum())"
   ]
  },
  {
   "cell_type": "markdown",
   "id": "5abf1033",
   "metadata": {
    "papermill": {
     "duration": 0.011045,
     "end_time": "2022-11-25T15:31:58.762127",
     "exception": false,
     "start_time": "2022-11-25T15:31:58.751082",
     "status": "completed"
    },
    "tags": []
   },
   "source": [
    "#show sum of duplicated"
   ]
  },
  {
   "cell_type": "code",
   "execution_count": 10,
   "id": "b73d895c",
   "metadata": {
    "execution": {
     "iopub.execute_input": "2022-11-25T15:31:58.780681Z",
     "iopub.status.busy": "2022-11-25T15:31:58.780342Z",
     "iopub.status.idle": "2022-11-25T15:31:59.353875Z",
     "shell.execute_reply": "2022-11-25T15:31:59.353250Z"
    },
    "papermill": {
     "duration": 0.584897,
     "end_time": "2022-11-25T15:31:59.355552",
     "exception": false,
     "start_time": "2022-11-25T15:31:58.770655",
     "status": "completed"
    },
    "tags": []
   },
   "outputs": [
    {
     "name": "stdout",
     "output_type": "stream",
     "text": [
      "168561\n"
     ]
    }
   ],
   "source": [
    "\n",
    "print(data.duplicated().sum())"
   ]
  },
  {
   "cell_type": "markdown",
   "id": "4c76d501",
   "metadata": {
    "papermill": {
     "duration": 0.008161,
     "end_time": "2022-11-25T15:31:59.373489",
     "exception": false,
     "start_time": "2022-11-25T15:31:59.365328",
     "status": "completed"
    },
    "tags": []
   },
   "source": [
    "#calculation of output power"
   ]
  },
  {
   "cell_type": "code",
   "execution_count": 11,
   "id": "3f960c6c",
   "metadata": {
    "execution": {
     "iopub.execute_input": "2022-11-25T15:31:59.392088Z",
     "iopub.status.busy": "2022-11-25T15:31:59.391570Z",
     "iopub.status.idle": "2022-11-25T15:31:59.407799Z",
     "shell.execute_reply": "2022-11-25T15:31:59.407104Z"
    },
    "papermill": {
     "duration": 0.027773,
     "end_time": "2022-11-25T15:31:59.409708",
     "exception": false,
     "start_time": "2022-11-25T15:31:59.381935",
     "status": "completed"
    },
    "tags": []
   },
   "outputs": [],
   "source": [
    "\n",
    "data['power']=np.sqrt(np.square(data.iloc[:,0]+np.square(data.iloc[:,1])))\n"
   ]
  },
  {
   "cell_type": "markdown",
   "id": "5ec11da6",
   "metadata": {
    "papermill": {
     "duration": 0.00822,
     "end_time": "2022-11-25T15:31:59.426641",
     "exception": false,
     "start_time": "2022-11-25T15:31:59.418421",
     "status": "completed"
    },
    "tags": []
   },
   "source": [
    "#show input X and output y"
   ]
  },
  {
   "cell_type": "code",
   "execution_count": 12,
   "id": "d9e8646c",
   "metadata": {
    "execution": {
     "iopub.execute_input": "2022-11-25T15:31:59.445226Z",
     "iopub.status.busy": "2022-11-25T15:31:59.444777Z",
     "iopub.status.idle": "2022-11-25T15:31:59.479131Z",
     "shell.execute_reply": "2022-11-25T15:31:59.478212Z"
    },
    "papermill": {
     "duration": 0.045751,
     "end_time": "2022-11-25T15:31:59.480940",
     "exception": false,
     "start_time": "2022-11-25T15:31:59.435189",
     "status": "completed"
    },
    "tags": []
   },
   "outputs": [
    {
     "name": "stdout",
     "output_type": "stream",
     "text": [
      "9\n",
      "(2075259, 8)\n",
      "(2075259, 1)\n"
     ]
    }
   ],
   "source": [
    "\n",
    "col=data.shape[1]\n",
    "X=data.iloc[:,0:col-1]\n",
    "y=data.iloc[:,col-1:col]\n",
    "print(col)\n",
    "print(X.shape)\n",
    "print(y.shape)\n"
   ]
  },
  {
   "cell_type": "markdown",
   "id": "84754342",
   "metadata": {
    "papermill": {
     "duration": 0.008253,
     "end_time": "2022-11-25T15:31:59.498226",
     "exception": false,
     "start_time": "2022-11-25T15:31:59.489973",
     "status": "completed"
    },
    "tags": []
   },
   "source": [
    "#cleaning input X"
   ]
  },
  {
   "cell_type": "code",
   "execution_count": 13,
   "id": "ba80e56a",
   "metadata": {
    "execution": {
     "iopub.execute_input": "2022-11-25T15:31:59.516730Z",
     "iopub.status.busy": "2022-11-25T15:31:59.516383Z",
     "iopub.status.idle": "2022-11-25T15:31:59.696644Z",
     "shell.execute_reply": "2022-11-25T15:31:59.695732Z"
    },
    "papermill": {
     "duration": 0.191541,
     "end_time": "2022-11-25T15:31:59.698254",
     "exception": false,
     "start_time": "2022-11-25T15:31:59.506713",
     "status": "completed"
    },
    "tags": []
   },
   "outputs": [
    {
     "name": "stdout",
     "output_type": "stream",
     "text": [
      "X Data is \n",
      " [[  4.216      0.418    234.84      18.4        0.         1.\n",
      "   17.        52.26667 ]\n",
      " [  5.36       0.436    233.63      23.         0.         1.\n",
      "   16.        72.333336]\n",
      " [  5.374      0.498    233.29      23.         0.         2.\n",
      "   17.        70.566666]\n",
      " [  5.388      0.502    233.74      23.         0.         1.\n",
      "   17.        71.8     ]\n",
      " [  3.666      0.528    235.68      15.8        0.         1.\n",
      "   17.        43.1     ]\n",
      " [  3.52       0.522    235.02      15.         0.         2.\n",
      "   17.        39.666668]\n",
      " [  3.702      0.52     235.09      15.8        0.         1.\n",
      "   17.        43.7     ]\n",
      " [  3.7        0.52     235.22      15.8        0.         1.\n",
      "   17.        43.666668]\n",
      " [  3.668      0.51     233.99      15.8        0.         1.\n",
      "   17.        43.133335]\n",
      " [  3.662      0.51     233.86      15.8        0.         2.\n",
      "   16.        43.033333]]\n",
      "y Data is \n",
      "                         power\n",
      "datetime                     \n",
      "2006-12-16 17:24:00  4.390724\n",
      "2006-12-16 17:25:00  5.550096\n",
      "2006-12-16 17:26:00  5.622004\n",
      "2006-12-16 17:27:00  5.640004\n",
      "2006-12-16 17:28:00  3.944784\n",
      "2006-12-16 17:29:00  3.792484\n",
      "2006-12-16 17:30:00  3.972400\n",
      "2006-12-16 17:31:00  3.970400\n",
      "2006-12-16 17:32:00  3.928100\n",
      "2006-12-16 17:33:00  3.922100\n"
     ]
    }
   ],
   "source": [
    "\n",
    "ImputedModule = SimpleImputer(missing_values = np.nan, strategy ='mean')\n",
    "ImputedX = ImputedModule.fit(X)\n",
    "X = ImputedX.transform(X)\n",
    "print('X Data is \\n' , X[:10])\n",
    "print('y Data is \\n' , y[:10])  "
   ]
  },
  {
   "cell_type": "markdown",
   "id": "88080ba6",
   "metadata": {
    "papermill": {
     "duration": 0.008412,
     "end_time": "2022-11-25T15:31:59.715850",
     "exception": false,
     "start_time": "2022-11-25T15:31:59.707438",
     "status": "completed"
    },
    "tags": []
   },
   "source": [
    "#scaling input X "
   ]
  },
  {
   "cell_type": "code",
   "execution_count": 14,
   "id": "113fde36",
   "metadata": {
    "execution": {
     "iopub.execute_input": "2022-11-25T15:31:59.735177Z",
     "iopub.status.busy": "2022-11-25T15:31:59.734263Z",
     "iopub.status.idle": "2022-11-25T15:31:59.814213Z",
     "shell.execute_reply": "2022-11-25T15:31:59.813394Z"
    },
    "papermill": {
     "duration": 0.091603,
     "end_time": "2022-11-25T15:31:59.815960",
     "exception": false,
     "start_time": "2022-11-25T15:31:59.724357",
     "status": "completed"
    },
    "tags": []
   },
   "outputs": [
    {
     "name": "stdout",
     "output_type": "stream",
     "text": [
      "X \n",
      " [[0.37479631 0.30071942 0.37609047 0.37759336 0.         0.0125\n",
      "  0.5483871  0.42965683]\n",
      " [0.47836321 0.31366906 0.33699515 0.47302905 0.         0.0125\n",
      "  0.51612903 0.58737232]\n",
      " [0.47963064 0.35827338 0.32600969 0.47302905 0.         0.025\n",
      "  0.5483871  0.57348704]\n",
      " [0.48089806 0.36115108 0.34054927 0.47302905 0.         0.0125\n",
      "  0.5483871  0.58318052]\n",
      " [0.32500453 0.37985612 0.40323102 0.32365145 0.         0.0125\n",
      "  0.5483871  0.3576107 ]\n",
      " [0.31178707 0.37553957 0.3819063  0.30705394 0.         0.025\n",
      "  0.5483871  0.33062616]\n",
      " [0.32826362 0.37410072 0.38416801 0.32365145 0.         0.0125\n",
      "  0.5483871  0.36232644]\n",
      " [0.32808256 0.37410072 0.38836834 0.32365145 0.         0.0125\n",
      "  0.5483871  0.36206447]\n",
      " [0.32518559 0.36690647 0.34862682 0.32365145 0.         0.0125\n",
      "  0.5483871  0.3578727 ]\n",
      " [0.3246424  0.36690647 0.34442649 0.32365145 0.         0.025\n",
      "  0.51612903 0.35708672]]\n"
     ]
    }
   ],
   "source": [
    " \n",
    "scaler = MinMaxScaler(feature_range=(0,1))\n",
    "X = scaler.fit_transform(X)\n",
    "print('X \\n' , X[:10])"
   ]
  },
  {
   "cell_type": "markdown",
   "id": "771fe132",
   "metadata": {
    "papermill": {
     "duration": 0.008521,
     "end_time": "2022-11-25T15:31:59.833511",
     "exception": false,
     "start_time": "2022-11-25T15:31:59.824990",
     "status": "completed"
    },
    "tags": []
   },
   "source": [
    "#data spliting"
   ]
  },
  {
   "cell_type": "code",
   "execution_count": 15,
   "id": "0e624cdb",
   "metadata": {
    "execution": {
     "iopub.execute_input": "2022-11-25T15:31:59.852623Z",
     "iopub.status.busy": "2022-11-25T15:31:59.851764Z",
     "iopub.status.idle": "2022-11-25T15:32:00.361826Z",
     "shell.execute_reply": "2022-11-25T15:32:00.361224Z"
    },
    "papermill": {
     "duration": 0.521606,
     "end_time": "2022-11-25T15:32:00.363773",
     "exception": false,
     "start_time": "2022-11-25T15:31:59.842167",
     "status": "completed"
    },
    "tags": []
   },
   "outputs": [
    {
     "name": "stdout",
     "output_type": "stream",
     "text": [
      "X_train shape is  (1390423, 8)\n",
      "X_test shape is  (684836, 8)\n",
      "y_train shape is  (1390423, 1)\n",
      "y_test shape is  (684836, 1)\n"
     ]
    }
   ],
   "source": [
    "\n",
    "X_train, X_test, y_train, y_test = train_test_split(X, y, test_size=0.33, random_state=44, shuffle =True)\n",
    "print('X_train shape is ' , X_train.shape)\n",
    "print('X_test shape is ' , X_test.shape)\n",
    "print('y_train shape is ' , y_train.shape)\n",
    "print('y_test shape is ' , y_test.shape)"
   ]
  },
  {
   "cell_type": "markdown",
   "id": "bcc185e1",
   "metadata": {
    "papermill": {
     "duration": 0.008496,
     "end_time": "2022-11-25T15:32:00.382269",
     "exception": false,
     "start_time": "2022-11-25T15:32:00.373773",
     "status": "completed"
    },
    "tags": []
   },
   "source": [
    "#Applying Linear Regression Model"
   ]
  },
  {
   "cell_type": "code",
   "execution_count": 16,
   "id": "33916b6e",
   "metadata": {
    "execution": {
     "iopub.execute_input": "2022-11-25T15:32:00.401551Z",
     "iopub.status.busy": "2022-11-25T15:32:00.400711Z",
     "iopub.status.idle": "2022-11-25T15:32:00.790275Z",
     "shell.execute_reply": "2022-11-25T15:32:00.789589Z"
    },
    "papermill": {
     "duration": 0.401334,
     "end_time": "2022-11-25T15:32:00.792366",
     "exception": false,
     "start_time": "2022-11-25T15:32:00.391032",
     "status": "completed"
    },
    "tags": []
   },
   "outputs": [
    {
     "name": "stderr",
     "output_type": "stream",
     "text": [
      "/opt/conda/lib/python3.7/site-packages/sklearn/linear_model/_base.py:145: FutureWarning: 'normalize' was deprecated in version 1.0 and will be removed in 1.2.\n",
      "If you wish to scale the data, use Pipeline with a StandardScaler in a preprocessing stage. To reproduce the previous behavior:\n",
      "\n",
      "from sklearn.pipeline import make_pipeline\n",
      "\n",
      "model = make_pipeline(StandardScaler(with_mean=False), LinearRegression())\n",
      "\n",
      "If you wish to pass a sample_weight parameter, you need to pass it as a fit parameter to each step of the pipeline as follows:\n",
      "\n",
      "kwargs = {s[0] + '__sample_weight': sample_weight for s in model.steps}\n",
      "model.fit(X, y, **kwargs)\n",
      "\n",
      "\n",
      "  FutureWarning,\n"
     ]
    },
    {
     "data": {
      "text/plain": [
       "LinearRegression(n_jobs=-1, normalize=True)"
      ]
     },
     "execution_count": 16,
     "metadata": {},
     "output_type": "execute_result"
    }
   ],
   "source": [
    "\n",
    "LinearRegressionModel = LinearRegression(fit_intercept=True, normalize=True,copy_X=True,n_jobs=-1)\n",
    "LinearRegressionModel.fit(X_train, y_train)"
   ]
  },
  {
   "cell_type": "markdown",
   "id": "ceaa301c",
   "metadata": {
    "papermill": {
     "duration": 0.011335,
     "end_time": "2022-11-25T15:32:00.815979",
     "exception": false,
     "start_time": "2022-11-25T15:32:00.804644",
     "status": "completed"
    },
    "tags": []
   },
   "source": [
    "#Calculating Details"
   ]
  },
  {
   "cell_type": "code",
   "execution_count": 17,
   "id": "20c62ac0",
   "metadata": {
    "execution": {
     "iopub.execute_input": "2022-11-25T15:32:00.841215Z",
     "iopub.status.busy": "2022-11-25T15:32:00.840254Z",
     "iopub.status.idle": "2022-11-25T15:32:00.876815Z",
     "shell.execute_reply": "2022-11-25T15:32:00.876109Z"
    },
    "papermill": {
     "duration": 0.051148,
     "end_time": "2022-11-25T15:32:00.878846",
     "exception": false,
     "start_time": "2022-11-25T15:32:00.827698",
     "status": "completed"
    },
    "tags": []
   },
   "outputs": [
    {
     "name": "stdout",
     "output_type": "stream",
     "text": [
      "Linear Regression Train Score is :  0.999583785911074\n",
      "Linear Regression Test Score is :  0.9995846372399197\n"
     ]
    }
   ],
   "source": [
    "\n",
    "print('Linear Regression Train Score is : ' , LinearRegressionModel.score(X_train, y_train))\n",
    "print('Linear Regression Test Score is : ' , LinearRegressionModel.score(X_test, y_test))\n"
   ]
  },
  {
   "cell_type": "markdown",
   "id": "5c6b7a34",
   "metadata": {
    "papermill": {
     "duration": 0.011151,
     "end_time": "2022-11-25T15:32:00.902068",
     "exception": false,
     "start_time": "2022-11-25T15:32:00.890917",
     "status": "completed"
    },
    "tags": []
   },
   "source": [
    "#Calculating Prediction"
   ]
  },
  {
   "cell_type": "code",
   "execution_count": 18,
   "id": "e1a9d417",
   "metadata": {
    "execution": {
     "iopub.execute_input": "2022-11-25T15:32:00.926605Z",
     "iopub.status.busy": "2022-11-25T15:32:00.926243Z",
     "iopub.status.idle": "2022-11-25T15:32:00.938337Z",
     "shell.execute_reply": "2022-11-25T15:32:00.937230Z"
    },
    "papermill": {
     "duration": 0.028167,
     "end_time": "2022-11-25T15:32:00.941762",
     "exception": false,
     "start_time": "2022-11-25T15:32:00.913595",
     "status": "completed"
    },
    "tags": []
   },
   "outputs": [
    {
     "name": "stdout",
     "output_type": "stream",
     "text": [
      "Predicted Value for Linear Regression is :  [[2.14066981]\n",
      " [2.62506916]\n",
      " [1.60391903]\n",
      " [0.58280434]\n",
      " [0.42746245]\n",
      " [0.49091097]\n",
      " [1.58854554]\n",
      " [0.49250171]\n",
      " [0.26870992]\n",
      " [0.28673904]]\n"
     ]
    }
   ],
   "source": [
    "\n",
    "y_pred = LinearRegressionModel.predict(X_test)\n",
    "print('Predicted Value for Linear Regression is : ' , y_pred[:10])  "
   ]
  },
  {
   "cell_type": "markdown",
   "id": "b017a3de",
   "metadata": {
    "papermill": {
     "duration": 0.011448,
     "end_time": "2022-11-25T15:32:00.965416",
     "exception": false,
     "start_time": "2022-11-25T15:32:00.953968",
     "status": "completed"
    },
    "tags": []
   },
   "source": [
    "#Calculating Mean Absolute Error"
   ]
  },
  {
   "cell_type": "code",
   "execution_count": 19,
   "id": "9ebf364d",
   "metadata": {
    "execution": {
     "iopub.execute_input": "2022-11-25T15:32:00.990056Z",
     "iopub.status.busy": "2022-11-25T15:32:00.989726Z",
     "iopub.status.idle": "2022-11-25T15:32:00.998027Z",
     "shell.execute_reply": "2022-11-25T15:32:00.997315Z"
    },
    "papermill": {
     "duration": 0.025603,
     "end_time": "2022-11-25T15:32:01.002746",
     "exception": false,
     "start_time": "2022-11-25T15:32:00.977143",
     "status": "completed"
    },
    "tags": []
   },
   "outputs": [
    {
     "name": "stdout",
     "output_type": "stream",
     "text": [
      "Mean Absolute Error Value is :  0.013854677364571223\n"
     ]
    }
   ],
   "source": [
    "\n",
    "MAEValue = mean_absolute_error(y_test, y_pred, multioutput='uniform_average')\n",
    "print('Mean Absolute Error Value is : ', MAEValue)"
   ]
  },
  {
   "cell_type": "markdown",
   "id": "b4c98c54",
   "metadata": {
    "papermill": {
     "duration": 0.011611,
     "end_time": "2022-11-25T15:32:01.026561",
     "exception": false,
     "start_time": "2022-11-25T15:32:01.014950",
     "status": "completed"
    },
    "tags": []
   },
   "source": [
    "#Calculating Mean Squared Error"
   ]
  },
  {
   "cell_type": "code",
   "execution_count": 20,
   "id": "a8193844",
   "metadata": {
    "execution": {
     "iopub.execute_input": "2022-11-25T15:32:01.051676Z",
     "iopub.status.busy": "2022-11-25T15:32:01.051319Z",
     "iopub.status.idle": "2022-11-25T15:32:01.059066Z",
     "shell.execute_reply": "2022-11-25T15:32:01.057987Z"
    },
    "papermill": {
     "duration": 0.022271,
     "end_time": "2022-11-25T15:32:01.060709",
     "exception": false,
     "start_time": "2022-11-25T15:32:01.038438",
     "status": "completed"
    },
    "tags": []
   },
   "outputs": [
    {
     "name": "stdout",
     "output_type": "stream",
     "text": [
      "Mean Squared Error Value is :  0.00047283088848616836\n"
     ]
    }
   ],
   "source": [
    "\n",
    "MSEValue = mean_squared_error(y_test, y_pred, multioutput='uniform_average') \n",
    "print('Mean Squared Error Value is : ', MSEValue)"
   ]
  },
  {
   "cell_type": "markdown",
   "id": "33bbcc9c",
   "metadata": {
    "papermill": {
     "duration": 0.008803,
     "end_time": "2022-11-25T15:32:01.078900",
     "exception": false,
     "start_time": "2022-11-25T15:32:01.070097",
     "status": "completed"
    },
    "tags": []
   },
   "source": [
    "#Calculating Median Absolute Error"
   ]
  },
  {
   "cell_type": "code",
   "execution_count": 21,
   "id": "80cb08e0",
   "metadata": {
    "execution": {
     "iopub.execute_input": "2022-11-25T15:32:01.098343Z",
     "iopub.status.busy": "2022-11-25T15:32:01.097869Z",
     "iopub.status.idle": "2022-11-25T15:32:01.114295Z",
     "shell.execute_reply": "2022-11-25T15:32:01.113494Z"
    },
    "papermill": {
     "duration": 0.028045,
     "end_time": "2022-11-25T15:32:01.115950",
     "exception": false,
     "start_time": "2022-11-25T15:32:01.087905",
     "status": "completed"
    },
    "tags": []
   },
   "outputs": [
    {
     "name": "stdout",
     "output_type": "stream",
     "text": [
      "Median Absolute Error Value is :  0.013626538842071434\n"
     ]
    }
   ],
   "source": [
    "\n",
    "MdSEValue = median_absolute_error(y_test, y_pred)\n",
    "print('Median Absolute Error Value is : ', MdSEValue )"
   ]
  },
  {
   "cell_type": "markdown",
   "id": "2ec505cf",
   "metadata": {
    "papermill": {
     "duration": 0.008871,
     "end_time": "2022-11-25T15:32:01.134252",
     "exception": false,
     "start_time": "2022-11-25T15:32:01.125381",
     "status": "completed"
    },
    "tags": []
   },
   "source": [
    "#display y_train ,y_test_train"
   ]
  },
  {
   "cell_type": "code",
   "execution_count": 22,
   "id": "c111dc14",
   "metadata": {
    "execution": {
     "iopub.execute_input": "2022-11-25T15:32:01.154126Z",
     "iopub.status.busy": "2022-11-25T15:32:01.153290Z",
     "iopub.status.idle": "2022-11-25T15:32:03.337325Z",
     "shell.execute_reply": "2022-11-25T15:32:03.336490Z"
    },
    "papermill": {
     "duration": 2.195919,
     "end_time": "2022-11-25T15:32:03.339236",
     "exception": false,
     "start_time": "2022-11-25T15:32:01.143317",
     "status": "completed"
    },
    "tags": []
   },
   "outputs": [
    {
     "data": {
      "text/plain": [
       "<matplotlib.legend.Legend at 0x7fae9a653f90>"
      ]
     },
     "execution_count": 22,
     "metadata": {},
     "output_type": "execute_result"
    },
    {
     "data": {
      "image/png": "[encoded data removed]",
      "text/plain": [
       "<Figure size 432x288 with 1 Axes>"
      ]
     },
     "metadata": {
      "needs_background": "light"
     },
     "output_type": "display_data"
    }
   ],
   "source": [
    "\n",
    "plt.figure()\n",
    "plt.plot(y_train[:200],label='y_train')\n",
    "plt.plot(LinearRegressionModel.predict(X_train[:200]),label='y_train_pred')\n",
    "plt.title('y_pred and y_actual')\n",
    "plt.legend()"
   ]
  },
  {
   "cell_type": "markdown",
   "id": "48d2e5d2",
   "metadata": {
    "papermill": {
     "duration": 0.009531,
     "end_time": "2022-11-25T15:32:03.358972",
     "exception": false,
     "start_time": "2022-11-25T15:32:03.349441",
     "status": "completed"
    },
    "tags": []
   },
   "source": [
    "#display y_test ,y_test_pred"
   ]
  },
  {
   "cell_type": "code",
   "execution_count": 23,
   "id": "11ccf64b",
   "metadata": {
    "execution": {
     "iopub.execute_input": "2022-11-25T15:32:03.379365Z",
     "iopub.status.busy": "2022-11-25T15:32:03.379068Z",
     "iopub.status.idle": "2022-11-25T15:32:05.512034Z",
     "shell.execute_reply": "2022-11-25T15:32:05.511390Z"
    },
    "papermill": {
     "duration": 2.145134,
     "end_time": "2022-11-25T15:32:05.513745",
     "exception": false,
     "start_time": "2022-11-25T15:32:03.368611",
     "status": "completed"
    },
    "tags": []
   },
   "outputs": [
    {
     "data": {
      "text/plain": [
       "<matplotlib.legend.Legend at 0x7fae9a318250>"
      ]
     },
     "execution_count": 23,
     "metadata": {},
     "output_type": "execute_result"
    },
    {
     "data": {
      "image/png": "[encoded data removed]",
      "text/plain": [
       "<Figure size 432x288 with 1 Axes>"
      ]
     },
     "metadata": {
      "needs_background": "light"
     },
     "output_type": "display_data"
    }
   ],
   "source": [
    "\n",
    "plt.figure()\n",
    "plt.plot(y_test[:200],label='y_test')\n",
    "plt.plot(LinearRegressionModel.predict(X_test[:200]),label='y_test_pred')\n",
    "plt.title('y_pred and y_actual')\n",
    "plt.legend()"
   ]
  }
 ],
 "metadata": {
  "kernelspec": {
   "display_name": "Python 3",
   "language": "python",
   "name": "python3"
  },
  "language_info": {
   "codemirror_mode": {
    "name": "ipython",
    "version": 3
   },
   "file_extension": ".py",
   "mimetype": "text/x-python",
   "name": "python",
   "nbconvert_exporter": "python",
   "pygments_lexer": "ipython3",
   "version": "3.7.12"
  },
  "papermill": {
   "default_parameters": {},
   "duration": 19.945712,
   "end_time": "2022-11-25T15:32:06.243542",
   "environment_variables": {},
   "exception": null,
   "input_path": "__notebook__.ipynb",
   "output_path": "__notebook__.ipynb",
   "parameters": {},
   "start_time": "2022-11-25T15:31:46.297830",
   "version": "2.3.4"
  }
 },
 "nbformat": 4,
 "nbformat_minor": 5
}
